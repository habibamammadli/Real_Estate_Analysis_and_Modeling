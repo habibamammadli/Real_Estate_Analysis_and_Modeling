{
 "cells": [
  {
   "cell_type": "code",
   "execution_count": 25,
   "metadata": {
    "executionInfo": {
     "elapsed": 8,
     "status": "ok",
     "timestamp": 1693856007616,
     "user": {
      "displayName": "Habiba Mammadli",
      "userId": "16201640772312949674"
     },
     "user_tz": -240
    },
    "id": "PzRMHtosNC0k"
   },
   "outputs": [],
   "source": [
    "from bs4 import BeautifulSoup\n",
    "import requests\n",
    "import pandas as pd\n",
    "import numpy as np"
   ]
  },
  {
   "cell_type": "code",
   "execution_count": 26,
   "metadata": {
    "executionInfo": {
     "elapsed": 372293,
     "status": "ok",
     "timestamp": 1693856385646,
     "user": {
      "displayName": "Habiba Mammadli",
      "userId": "16201640772312949674"
     },
     "user_tz": -240
    },
    "id": "QsFLZ8xkNW8x"
   },
   "outputs": [],
   "source": [
    "data, location, price, area, time, bill_of_sale, mortgage, repair ={}, [], [], [], [], [], [], []\n",
    "for i in range(421):\n",
    "    url = 'https://bina.az/baki/nerimanov/alqi-satqi/menziller/yeni-tikili?page='+str(i+1)\n",
    "    req = requests.get(url)\n",
    "    req.encoding = 'utf-8' #class=\"card_params\"\n",
    "    soup = BeautifulSoup(req.text, \"html.parser\")\n",
    "    properties = soup.find_all(\"div\", class_=\"items-i\")\n",
    "    for item in properties:\n",
    "        location.append(item.find(\"div\", class_=\"location\").text.strip())\n",
    "        price.append(item.find(\"span\", class_=\"price-val\").text.strip())\n",
    "        area.append(item.find(\"ul\", class_=\"name\").text.strip())\n",
    "        time.append(item.find(\"div\", class_=\"city_when\").text.strip())\n",
    "        bill_of_sale.append(item.find(\"div\", class_=\"bill_of_sale\").text.strip() if item.find(\"div\", class_=\"bill_of_sale\") else \"Çıxarış yoxdur\")\n",
    "        mortgage.append(item.find(\"div\", class_=\"mortgage\").text.strip() if item.find(\"div\", class_=\"mortgage\") else \"Ipoteka yoxdur\")\n",
    "        repair.append(item.find(\"div\", class_=\"repair\").text.strip() if item.find(\"div\", class_=\"repair\") else \"Təmirsiz\")\n",
    "data['location'] =location\n",
    "data['price'] = price\n",
    "data['area'] = area\n",
    "data['time'] = time\n",
    "data['bill_of_sale'] = bill_of_sale\n",
    "data['mortgage'] = mortgage\n",
    "data['repair'] = repair"
   ]
  },
  {
   "cell_type": "code",
   "execution_count": 27,
   "metadata": {
    "executionInfo": {
     "elapsed": 4,
     "status": "ok",
     "timestamp": 1693856425516,
     "user": {
      "displayName": "Habiba Mammadli",
      "userId": "16201640772312949674"
     },
     "user_tz": -240
    },
    "id": "Lo2B8MxbSpba"
   },
   "outputs": [],
   "source": [
    "data = pd.DataFrame(data)"
   ]
  },
  {
   "cell_type": "code",
   "execution_count": 28,
   "metadata": {
    "colab": {
     "base_uri": "https://localhost:8080/",
     "height": 293
    },
    "executionInfo": {
     "elapsed": 11,
     "status": "ok",
     "timestamp": 1693856430468,
     "user": {
      "displayName": "Habiba Mammadli",
      "userId": "16201640772312949674"
     },
     "user_tz": -240
    },
    "id": "uQtG1UPhffBs",
    "outputId": "acf895bd-5e87-41a4-97a3-b92f69526cc7"
   },
   "outputs": [
    {
     "data": {
      "text/html": [
       "<div>\n",
       "<style scoped>\n",
       "    .dataframe tbody tr th:only-of-type {\n",
       "        vertical-align: middle;\n",
       "    }\n",
       "\n",
       "    .dataframe tbody tr th {\n",
       "        vertical-align: top;\n",
       "    }\n",
       "\n",
       "    .dataframe thead th {\n",
       "        text-align: right;\n",
       "    }\n",
       "</style>\n",
       "<table border=\"1\" class=\"dataframe\">\n",
       "  <thead>\n",
       "    <tr style=\"text-align: right;\">\n",
       "      <th></th>\n",
       "      <th>location</th>\n",
       "      <th>price</th>\n",
       "      <th>area</th>\n",
       "      <th>time</th>\n",
       "      <th>bill_of_sale</th>\n",
       "      <th>mortgage</th>\n",
       "      <th>repair</th>\n",
       "    </tr>\n",
       "  </thead>\n",
       "  <tbody>\n",
       "    <tr>\n",
       "      <th>0</th>\n",
       "      <td>Nərimanov r.</td>\n",
       "      <td>410 000</td>\n",
       "      <td>4 otaqlı200 m²2/14 mərtəbə</td>\n",
       "      <td>Bakı, 23 avqust 2023</td>\n",
       "      <td>Çıxarış var</td>\n",
       "      <td>Ipoteka yoxdur</td>\n",
       "      <td>Təmirli</td>\n",
       "    </tr>\n",
       "    <tr>\n",
       "      <th>1</th>\n",
       "      <td>Gənclik m.</td>\n",
       "      <td>185 000</td>\n",
       "      <td>2 otaqlı61 m²3/17 mərtəbə</td>\n",
       "      <td>Bakı, 02 sentyabr 2023</td>\n",
       "      <td>Çıxarış yoxdur</td>\n",
       "      <td>Ipoteka yoxdur</td>\n",
       "      <td>Təmirli</td>\n",
       "    </tr>\n",
       "    <tr>\n",
       "      <th>2</th>\n",
       "      <td>Nərimanov r.</td>\n",
       "      <td>418 404</td>\n",
       "      <td>5 otaqlı199.2 m²12/14 mərtəbə</td>\n",
       "      <td>Bakı, bugün 12:33</td>\n",
       "      <td>Çıxarış yoxdur</td>\n",
       "      <td>Ipoteka yoxdur</td>\n",
       "      <td>Təmirsiz</td>\n",
       "    </tr>\n",
       "    <tr>\n",
       "      <th>3</th>\n",
       "      <td>Nəriman Nərimanov m.</td>\n",
       "      <td>159 000</td>\n",
       "      <td>2 otaqlı55 m²5/17 mərtəbə</td>\n",
       "      <td>Bakı, 01 sentyabr 2023</td>\n",
       "      <td>Çıxarış var</td>\n",
       "      <td>İpoteka var</td>\n",
       "      <td>Təmirli</td>\n",
       "    </tr>\n",
       "    <tr>\n",
       "      <th>4</th>\n",
       "      <td>Koroğlu m.</td>\n",
       "      <td>269 000</td>\n",
       "      <td>3 otaqlı172 m²15/18 mərtəbə</td>\n",
       "      <td>Bakı, bugün 21:53</td>\n",
       "      <td>Çıxarış var</td>\n",
       "      <td>Ipoteka yoxdur</td>\n",
       "      <td>Təmirli</td>\n",
       "    </tr>\n",
       "  </tbody>\n",
       "</table>\n",
       "</div>"
      ],
      "text/plain": [
       "               location    price                           area   \n",
       "0          Nərimanov r.  410 000     4 otaqlı200 m²2/14 mərtəbə  \\\n",
       "1            Gənclik m.  185 000      2 otaqlı61 m²3/17 mərtəbə   \n",
       "2          Nərimanov r.  418 404  5 otaqlı199.2 m²12/14 mərtəbə   \n",
       "3  Nəriman Nərimanov m.  159 000      2 otaqlı55 m²5/17 mərtəbə   \n",
       "4            Koroğlu m.  269 000    3 otaqlı172 m²15/18 mərtəbə   \n",
       "\n",
       "                     time    bill_of_sale        mortgage    repair  \n",
       "0    Bakı, 23 avqust 2023     Çıxarış var  Ipoteka yoxdur   Təmirli  \n",
       "1  Bakı, 02 sentyabr 2023  Çıxarış yoxdur  Ipoteka yoxdur   Təmirli  \n",
       "2       Bakı, bugün 12:33  Çıxarış yoxdur  Ipoteka yoxdur  Təmirsiz  \n",
       "3  Bakı, 01 sentyabr 2023     Çıxarış var     İpoteka var   Təmirli  \n",
       "4       Bakı, bugün 21:53     Çıxarış var  Ipoteka yoxdur   Təmirli  "
      ]
     },
     "execution_count": 28,
     "metadata": {},
     "output_type": "execute_result"
    }
   ],
   "source": [
    "data.head()"
   ]
  },
  {
   "cell_type": "code",
   "execution_count": 29,
   "metadata": {
    "executionInfo": {
     "elapsed": 15,
     "status": "ok",
     "timestamp": 1693856452180,
     "user": {
      "displayName": "Habiba Mammadli",
      "userId": "16201640772312949674"
     },
     "user_tz": -240
    },
    "id": "aFsR5JmKhNTS"
   },
   "outputs": [],
   "source": [
    "data['price'] = data['price'].str.replace(' ', '').astype('int')"
   ]
  },
  {
   "cell_type": "code",
   "execution_count": 30,
   "metadata": {
    "executionInfo": {
     "elapsed": 4,
     "status": "ok",
     "timestamp": 1693856455542,
     "user": {
      "displayName": "Habiba Mammadli",
      "userId": "16201640772312949674"
     },
     "user_tz": -240
    },
    "id": "vyUEsEFBhw-J"
   },
   "outputs": [],
   "source": [
    "data['area_m2'] = data['area'].str.split('otaqlı').apply(lambda row: row[-1].split('m²')[0]).astype('float')"
   ]
  },
  {
   "cell_type": "code",
   "execution_count": 31,
   "metadata": {
    "executionInfo": {
     "elapsed": 469,
     "status": "ok",
     "timestamp": 1693856458112,
     "user": {
      "displayName": "Habiba Mammadli",
      "userId": "16201640772312949674"
     },
     "user_tz": -240
    },
    "id": "FFUtFmFMh1he"
   },
   "outputs": [],
   "source": [
    "data['number_of_room'] = data['area'].str.split('otaqlı').apply(lambda row: int(row[0]) if len(row)==2 else np.nan)"
   ]
  },
  {
   "cell_type": "code",
   "execution_count": 32,
   "metadata": {
    "executionInfo": {
     "elapsed": 3,
     "status": "ok",
     "timestamp": 1693856463361,
     "user": {
      "displayName": "Habiba Mammadli",
      "userId": "16201640772312949674"
     },
     "user_tz": -240
    },
    "id": "fY0BSmBph36S"
   },
   "outputs": [],
   "source": [
    "data['floor'] = data['area'].str.split('otaqlı').apply(lambda row: int(row[-1].split('m²')[-1].split('/')[0])if 'mərtəbə' in row[-1] else np.nan)"
   ]
  },
  {
   "cell_type": "code",
   "execution_count": 33,
   "metadata": {
    "executionInfo": {
     "elapsed": 8,
     "status": "ok",
     "timestamp": 1693856476822,
     "user": {
      "displayName": "Habiba Mammadli",
      "userId": "16201640772312949674"
     },
     "user_tz": -240
    },
    "id": "aJGGvcxxiARt"
   },
   "outputs": [],
   "source": [
    "data.drop('area', axis=1, inplace=True)"
   ]
  },
  {
   "cell_type": "code",
   "execution_count": 34,
   "metadata": {
    "colab": {
     "base_uri": "https://localhost:8080/",
     "height": 397
    },
    "executionInfo": {
     "elapsed": 6,
     "status": "ok",
     "timestamp": 1693856478901,
     "user": {
      "displayName": "Habiba Mammadli",
      "userId": "16201640772312949674"
     },
     "user_tz": -240
    },
    "id": "uGtNs3T-h6lw",
    "outputId": "3ae4efcd-38ba-42e5-92e0-d93d5fa04bd3"
   },
   "outputs": [
    {
     "data": {
      "text/html": [
       "<div>\n",
       "<style scoped>\n",
       "    .dataframe tbody tr th:only-of-type {\n",
       "        vertical-align: middle;\n",
       "    }\n",
       "\n",
       "    .dataframe tbody tr th {\n",
       "        vertical-align: top;\n",
       "    }\n",
       "\n",
       "    .dataframe thead th {\n",
       "        text-align: right;\n",
       "    }\n",
       "</style>\n",
       "<table border=\"1\" class=\"dataframe\">\n",
       "  <thead>\n",
       "    <tr style=\"text-align: right;\">\n",
       "      <th></th>\n",
       "      <th>location</th>\n",
       "      <th>price</th>\n",
       "      <th>time</th>\n",
       "      <th>bill_of_sale</th>\n",
       "      <th>mortgage</th>\n",
       "      <th>repair</th>\n",
       "      <th>area_m2</th>\n",
       "      <th>number_of_room</th>\n",
       "      <th>floor</th>\n",
       "    </tr>\n",
       "  </thead>\n",
       "  <tbody>\n",
       "    <tr>\n",
       "      <th>0</th>\n",
       "      <td>Nərimanov r.</td>\n",
       "      <td>410000</td>\n",
       "      <td>Bakı, 23 avqust 2023</td>\n",
       "      <td>Çıxarış var</td>\n",
       "      <td>Ipoteka yoxdur</td>\n",
       "      <td>Təmirli</td>\n",
       "      <td>200.0</td>\n",
       "      <td>4</td>\n",
       "      <td>2</td>\n",
       "    </tr>\n",
       "    <tr>\n",
       "      <th>1</th>\n",
       "      <td>Gənclik m.</td>\n",
       "      <td>185000</td>\n",
       "      <td>Bakı, 02 sentyabr 2023</td>\n",
       "      <td>Çıxarış yoxdur</td>\n",
       "      <td>Ipoteka yoxdur</td>\n",
       "      <td>Təmirli</td>\n",
       "      <td>61.0</td>\n",
       "      <td>2</td>\n",
       "      <td>3</td>\n",
       "    </tr>\n",
       "    <tr>\n",
       "      <th>2</th>\n",
       "      <td>Nərimanov r.</td>\n",
       "      <td>418404</td>\n",
       "      <td>Bakı, bugün 12:33</td>\n",
       "      <td>Çıxarış yoxdur</td>\n",
       "      <td>Ipoteka yoxdur</td>\n",
       "      <td>Təmirsiz</td>\n",
       "      <td>199.2</td>\n",
       "      <td>5</td>\n",
       "      <td>12</td>\n",
       "    </tr>\n",
       "    <tr>\n",
       "      <th>3</th>\n",
       "      <td>Nəriman Nərimanov m.</td>\n",
       "      <td>159000</td>\n",
       "      <td>Bakı, 01 sentyabr 2023</td>\n",
       "      <td>Çıxarış var</td>\n",
       "      <td>İpoteka var</td>\n",
       "      <td>Təmirli</td>\n",
       "      <td>55.0</td>\n",
       "      <td>2</td>\n",
       "      <td>5</td>\n",
       "    </tr>\n",
       "    <tr>\n",
       "      <th>4</th>\n",
       "      <td>Koroğlu m.</td>\n",
       "      <td>269000</td>\n",
       "      <td>Bakı, bugün 21:53</td>\n",
       "      <td>Çıxarış var</td>\n",
       "      <td>Ipoteka yoxdur</td>\n",
       "      <td>Təmirli</td>\n",
       "      <td>172.0</td>\n",
       "      <td>3</td>\n",
       "      <td>15</td>\n",
       "    </tr>\n",
       "  </tbody>\n",
       "</table>\n",
       "</div>"
      ],
      "text/plain": [
       "               location   price                    time    bill_of_sale   \n",
       "0          Nərimanov r.  410000    Bakı, 23 avqust 2023     Çıxarış var  \\\n",
       "1            Gənclik m.  185000  Bakı, 02 sentyabr 2023  Çıxarış yoxdur   \n",
       "2          Nərimanov r.  418404       Bakı, bugün 12:33  Çıxarış yoxdur   \n",
       "3  Nəriman Nərimanov m.  159000  Bakı, 01 sentyabr 2023     Çıxarış var   \n",
       "4            Koroğlu m.  269000       Bakı, bugün 21:53     Çıxarış var   \n",
       "\n",
       "         mortgage    repair  area_m2  number_of_room  floor  \n",
       "0  Ipoteka yoxdur   Təmirli    200.0               4      2  \n",
       "1  Ipoteka yoxdur   Təmirli     61.0               2      3  \n",
       "2  Ipoteka yoxdur  Təmirsiz    199.2               5     12  \n",
       "3     İpoteka var   Təmirli     55.0               2      5  \n",
       "4  Ipoteka yoxdur   Təmirli    172.0               3     15  "
      ]
     },
     "execution_count": 34,
     "metadata": {},
     "output_type": "execute_result"
    }
   ],
   "source": [
    "data.head()"
   ]
  },
  {
   "cell_type": "code",
   "execution_count": 35,
   "metadata": {
    "executionInfo": {
     "elapsed": 3,
     "status": "ok",
     "timestamp": 1693856552776,
     "user": {
      "displayName": "Habiba Mammadli",
      "userId": "16201640772312949674"
     },
     "user_tz": -240
    },
    "id": "Ukbb6VN2t2ZS"
   },
   "outputs": [],
   "source": [
    "data['date'] = data['time'].str.extract(r'(\\d{2} [a-zA-Z]+ \\d{4})')"
   ]
  },
  {
   "cell_type": "code",
   "execution_count": 36,
   "metadata": {
    "colab": {
     "base_uri": "https://localhost:8080/",
     "height": 338
    },
    "executionInfo": {
     "elapsed": 625,
     "status": "error",
     "timestamp": 1693856716928,
     "user": {
      "displayName": "Habiba Mammadli",
      "userId": "16201640772312949674"
     },
     "user_tz": -240
    },
    "id": "SpDBtR75k_QZ",
    "outputId": "07cde4a5-0278-4396-c5bc-a0d8a96ecc13"
   },
   "outputs": [],
   "source": [
    "data['date'] = data['date'].fillna(\"05 sentyabr 2023\")\n",
    "data.drop('time', axis=1, inplace=True)"
   ]
  },
  {
   "cell_type": "code",
   "execution_count": 37,
   "metadata": {
    "colab": {
     "base_uri": "https://localhost:8080/",
     "height": 399
    },
    "executionInfo": {
     "elapsed": 440,
     "status": "ok",
     "timestamp": 1693856723141,
     "user": {
      "displayName": "Habiba Mammadli",
      "userId": "16201640772312949674"
     },
     "user_tz": -240
    },
    "id": "7haRZXoxuPkA",
    "outputId": "3659fae6-6865-4a9a-ff6b-4262e2bc88cb"
   },
   "outputs": [
    {
     "data": {
      "text/html": [
       "<div>\n",
       "<style scoped>\n",
       "    .dataframe tbody tr th:only-of-type {\n",
       "        vertical-align: middle;\n",
       "    }\n",
       "\n",
       "    .dataframe tbody tr th {\n",
       "        vertical-align: top;\n",
       "    }\n",
       "\n",
       "    .dataframe thead th {\n",
       "        text-align: right;\n",
       "    }\n",
       "</style>\n",
       "<table border=\"1\" class=\"dataframe\">\n",
       "  <thead>\n",
       "    <tr style=\"text-align: right;\">\n",
       "      <th></th>\n",
       "      <th>location</th>\n",
       "      <th>price</th>\n",
       "      <th>bill_of_sale</th>\n",
       "      <th>mortgage</th>\n",
       "      <th>repair</th>\n",
       "      <th>area_m2</th>\n",
       "      <th>number_of_room</th>\n",
       "      <th>floor</th>\n",
       "      <th>date</th>\n",
       "    </tr>\n",
       "  </thead>\n",
       "  <tbody>\n",
       "    <tr>\n",
       "      <th>0</th>\n",
       "      <td>Nərimanov r.</td>\n",
       "      <td>410000</td>\n",
       "      <td>Çıxarış var</td>\n",
       "      <td>Ipoteka yoxdur</td>\n",
       "      <td>Təmirli</td>\n",
       "      <td>200.0</td>\n",
       "      <td>4</td>\n",
       "      <td>2</td>\n",
       "      <td>23 avqust 2023</td>\n",
       "    </tr>\n",
       "    <tr>\n",
       "      <th>1</th>\n",
       "      <td>Gənclik m.</td>\n",
       "      <td>185000</td>\n",
       "      <td>Çıxarış yoxdur</td>\n",
       "      <td>Ipoteka yoxdur</td>\n",
       "      <td>Təmirli</td>\n",
       "      <td>61.0</td>\n",
       "      <td>2</td>\n",
       "      <td>3</td>\n",
       "      <td>02 sentyabr 2023</td>\n",
       "    </tr>\n",
       "    <tr>\n",
       "      <th>2</th>\n",
       "      <td>Nərimanov r.</td>\n",
       "      <td>418404</td>\n",
       "      <td>Çıxarış yoxdur</td>\n",
       "      <td>Ipoteka yoxdur</td>\n",
       "      <td>Təmirsiz</td>\n",
       "      <td>199.2</td>\n",
       "      <td>5</td>\n",
       "      <td>12</td>\n",
       "      <td>05 sentyabr 2023</td>\n",
       "    </tr>\n",
       "    <tr>\n",
       "      <th>3</th>\n",
       "      <td>Nəriman Nərimanov m.</td>\n",
       "      <td>159000</td>\n",
       "      <td>Çıxarış var</td>\n",
       "      <td>İpoteka var</td>\n",
       "      <td>Təmirli</td>\n",
       "      <td>55.0</td>\n",
       "      <td>2</td>\n",
       "      <td>5</td>\n",
       "      <td>01 sentyabr 2023</td>\n",
       "    </tr>\n",
       "    <tr>\n",
       "      <th>4</th>\n",
       "      <td>Koroğlu m.</td>\n",
       "      <td>269000</td>\n",
       "      <td>Çıxarış var</td>\n",
       "      <td>Ipoteka yoxdur</td>\n",
       "      <td>Təmirli</td>\n",
       "      <td>172.0</td>\n",
       "      <td>3</td>\n",
       "      <td>15</td>\n",
       "      <td>05 sentyabr 2023</td>\n",
       "    </tr>\n",
       "  </tbody>\n",
       "</table>\n",
       "</div>"
      ],
      "text/plain": [
       "               location   price    bill_of_sale        mortgage    repair   \n",
       "0          Nərimanov r.  410000     Çıxarış var  Ipoteka yoxdur   Təmirli  \\\n",
       "1            Gənclik m.  185000  Çıxarış yoxdur  Ipoteka yoxdur   Təmirli   \n",
       "2          Nərimanov r.  418404  Çıxarış yoxdur  Ipoteka yoxdur  Təmirsiz   \n",
       "3  Nəriman Nərimanov m.  159000     Çıxarış var     İpoteka var   Təmirli   \n",
       "4            Koroğlu m.  269000     Çıxarış var  Ipoteka yoxdur   Təmirli   \n",
       "\n",
       "   area_m2  number_of_room  floor              date  \n",
       "0    200.0               4      2    23 avqust 2023  \n",
       "1     61.0               2      3  02 sentyabr 2023  \n",
       "2    199.2               5     12  05 sentyabr 2023  \n",
       "3     55.0               2      5  01 sentyabr 2023  \n",
       "4    172.0               3     15  05 sentyabr 2023  "
      ]
     },
     "execution_count": 37,
     "metadata": {},
     "output_type": "execute_result"
    }
   ],
   "source": [
    "data.head()"
   ]
  },
  {
   "cell_type": "code",
   "execution_count": 38,
   "metadata": {
    "executionInfo": {
     "elapsed": 465,
     "status": "ok",
     "timestamp": 1693856781581,
     "user": {
      "displayName": "Habiba Mammadli",
      "userId": "16201640772312949674"
     },
     "user_tz": -240
    },
    "id": "4VyvOYk3g6zy"
   },
   "outputs": [],
   "source": [
    "data.to_csv('Task-Dirtydata.csv', index=False)"
   ]
  },
  {
   "cell_type": "code",
   "execution_count": null,
   "metadata": {
    "id": "XvHCxxu4jM1p"
   },
   "outputs": [],
   "source": []
  }
 ],
 "metadata": {
  "colab": {
   "authorship_tag": "ABX9TyOYmhUhqmTPsrEg6oSbYu1Y",
   "provenance": []
  },
  "kernelspec": {
   "display_name": "Python 3 (ipykernel)",
   "language": "python",
   "name": "python3"
  },
  "language_info": {
   "codemirror_mode": {
    "name": "ipython",
    "version": 3
   },
   "file_extension": ".py",
   "mimetype": "text/x-python",
   "name": "python",
   "nbconvert_exporter": "python",
   "pygments_lexer": "ipython3",
   "version": "3.10.0"
  }
 },
 "nbformat": 4,
 "nbformat_minor": 1
}
